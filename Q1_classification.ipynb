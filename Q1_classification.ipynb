{
 "cells": [
  {
   "cell_type": "code",
   "execution_count": 8,
   "metadata": {},
   "outputs": [],
   "source": [
    "import csv\n",
    "import pandas as pd\n",
    "from sklearn.feature_extraction.text import CountVectorizer\n",
    "from sklearn.feature_extraction.text import TfidfTransformer\n",
    "from sklearn.model_selection import train_test_split\n"
   ]
  },
  {
   "cell_type": "code",
   "execution_count": 9,
   "metadata": {},
   "outputs": [],
   "source": [
    "def load_file(fileName):\n",
    "    dataset = pd.read_table(fileName, header=0, sep=\",\", encoding=\"unicode_escape\")\n",
    "    \n",
    "    return dataset"
   ]
  },
  {
   "cell_type": "code",
   "execution_count": 10,
   "metadata": {},
   "outputs": [],
   "source": [
    "# preprocess creates the term frequency matrix for the review data set\n",
    "def preprocess(data):\n",
    "    count_vectorizer = CountVectorizer()\n",
    "    data = count_vectorizer.fit_transform(data)\n",
    "    #tfidf_data = TfidfTransformer(use_idf=False).fit_transform(data)\n",
    "\n",
    "    return data"
   ]
  },
  {
   "cell_type": "code",
   "execution_count": 11,
   "metadata": {},
   "outputs": [],
   "source": [
    "def learn_model(data,target):\n",
    "  \n",
    "    classifier = None\n",
    "    #Your custom implementation of NaiveBayes classifier will go here.\n",
    "    \n",
    "    \n",
    "    return classifier"
   ]
  },
  {
   "cell_type": "code",
   "execution_count": 12,
   "metadata": {},
   "outputs": [],
   "source": [
    "def classify(classifier, testdata):\n",
    "    \n",
    "    predicted_val=[]\n",
    "    #Your code to classify test data using the learned model will go here\n",
    "    \n",
    "    \n",
    "    return predicted_val"
   ]
  },
  {
   "cell_type": "code",
   "execution_count": 13,
   "metadata": {},
   "outputs": [],
   "source": [
    "def evaluate(actual_class, predicted_class):\n",
    "        \n",
    "    accuracy = -1    \n",
    "    #Your code to evaluate the model will go here. The code will print overall model's accuracy and precision \n",
    "    #and recall for each class label.\n",
    "    \n",
    "    \n",
    "    print(\"The accuracy score is :\",accuracy)"
   ]
  },
  {
   "cell_type": "code",
   "execution_count": 14,
   "metadata": {},
   "outputs": [
    {
     "name": "stdout",
     "output_type": "stream",
     "text": [
      "Loading data.....\n",
      "0                    Pt aware that he needs ROV for refill\n",
      "1        Mom wants to know if the Focalin needs some do...\n",
      "2        pt called to discuss nortryptiline. she says s...\n",
      "3                             FYI Nortryptline medication.\n",
      "4                  Letter of patient establishment request\n",
      "                               ...                        \n",
      "57275                                Out of meds -LOST RXS\n",
      "57276                 pt's mom called to report a migraine\n",
      "57277                                     Dental clearance\n",
      "57278                              Catheter documentation \n",
      "57279         status of FMLA form?- awaiting MD completion\n",
      "Name: SUMMARY, Length: 57280, dtype: object\n",
      "preprocessing data.....\n",
      "  (0, 7472)\t1\n",
      "  (0, 1975)\t1\n",
      "  (0, 9204)\t1\n",
      "  (0, 4732)\t1\n",
      "  (0, 6440)\t1\n",
      "  (0, 8154)\t1\n",
      "  (0, 4342)\t1\n",
      "  (0, 7769)\t1\n",
      "  (1, 6440)\t1\n",
      "  (1, 6230)\t1\n",
      "  (1, 9911)\t1\n",
      "  (1, 9324)\t1\n",
      "  (1, 5471)\t1\n",
      "  (1, 4999)\t1\n",
      "  (1, 9206)\t1\n",
      "  (1, 4318)\t1\n",
      "  (1, 8651)\t1\n",
      "  (1, 3667)\t1\n",
      "  (1, 1408)\t1\n",
      "  (2, 7472)\t1\n",
      "  (2, 9324)\t1\n",
      "  (2, 2419)\t1\n",
      "  (2, 3557)\t1\n",
      "  (2, 6565)\t1\n",
      "  (2, 8462)\t2\n",
      "  :\t:\n",
      "  (57274, 5662)\t1\n",
      "  (57274, 2571)\t1\n",
      "  (57274, 7481)\t1\n",
      "  (57275, 6684)\t1\n",
      "  (57275, 6038)\t1\n",
      "  (57275, 6819)\t1\n",
      "  (57275, 8222)\t1\n",
      "  (57275, 5788)\t1\n",
      "  (57276, 7472)\t1\n",
      "  (57276, 6230)\t1\n",
      "  (57276, 9324)\t1\n",
      "  (57276, 2419)\t1\n",
      "  (57276, 6148)\t1\n",
      "  (57276, 7880)\t1\n",
      "  (57277, 2772)\t1\n",
      "  (57277, 3370)\t1\n",
      "  (57278, 3628)\t1\n",
      "  (57278, 2559)\t1\n",
      "  (57279, 6684)\t1\n",
      "  (57279, 4353)\t1\n",
      "  (57279, 5992)\t1\n",
      "  (57279, 8814)\t1\n",
      "  (57279, 4313)\t1\n",
      "  (57279, 1973)\t1\n",
      "  (57279, 2916)\t1\n",
      "Learning model.....\n",
      "Classifying test data......\n",
      "Evaluating results.....\n",
      "The accuracy score is : -1\n"
     ]
    }
   ],
   "source": [
    "features = [\"SUMMARY\", \"categories\", \"sub_categories\"]\n",
    "\n",
    "print(\"Loading data.....\")\n",
    "dataset = load_file(\"TextClassification_Data.csv\")\n",
    "data,target = dataset[features[0]].fillna(\" \"), dataset[features[1]]\n",
    "\n",
    "print(\"preprocessing data.....\")\n",
    "word_vectors = preprocess(data)\n",
    "    \n",
    "trainingX,testX,trainingY,testY = train_test_split(word_vectors,target,test_size=0.4,random_state=43)\n",
    "\n",
    "print(\"Learning model.....\")\n",
    "model = learn_model(trainingX,trainingY)\n",
    "\n",
    "print(\"Classifying test data......\")      \n",
    "predictedY = classify(model, testX)\n",
    "\n",
    "print(\"Evaluating results.....\")\n",
    "evaluate(testY,predictedY)"
   ]
  },
  {
   "cell_type": "code",
   "execution_count": null,
   "metadata": {},
   "outputs": [],
   "source": []
  }
 ],
 "metadata": {
  "kernelspec": {
   "display_name": "Python 3",
   "language": "python",
   "name": "python3"
  },
  "language_info": {
   "codemirror_mode": {
    "name": "ipython",
    "version": 3
   },
   "file_extension": ".py",
   "mimetype": "text/x-python",
   "name": "python",
   "nbconvert_exporter": "python",
   "pygments_lexer": "ipython3",
   "version": "3.8.6"
  }
 },
 "nbformat": 4,
 "nbformat_minor": 2
}
